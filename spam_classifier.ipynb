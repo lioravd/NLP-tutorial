{
 "cells": [
  {
   "cell_type": "code",
   "execution_count": 1,
   "id": "d6a5c570-865b-4e6a-a122-9a1cbf44c85c",
   "metadata": {
    "tags": []
   },
   "outputs": [],
   "source": [
    "import pandas as pd\n",
    "import numpy as np"
   ]
  },
  {
   "cell_type": "code",
   "execution_count": 5,
   "id": "7a8b50bf-207c-46a8-bf87-326b4f8e4dfb",
   "metadata": {
    "tags": []
   },
   "outputs": [
    {
     "data": {
      "text/html": [
       "<div>\n",
       "<style scoped>\n",
       "    .dataframe tbody tr th:only-of-type {\n",
       "        vertical-align: middle;\n",
       "    }\n",
       "\n",
       "    .dataframe tbody tr th {\n",
       "        vertical-align: top;\n",
       "    }\n",
       "\n",
       "    .dataframe thead th {\n",
       "        text-align: right;\n",
       "    }\n",
       "</style>\n",
       "<table border=\"1\" class=\"dataframe\">\n",
       "  <thead>\n",
       "    <tr style=\"text-align: right;\">\n",
       "      <th></th>\n",
       "      <th>Category</th>\n",
       "      <th>Message</th>\n",
       "    </tr>\n",
       "  </thead>\n",
       "  <tbody>\n",
       "    <tr>\n",
       "      <th>0</th>\n",
       "      <td>ham</td>\n",
       "      <td>Go until jurong point, crazy.. Available only ...</td>\n",
       "    </tr>\n",
       "    <tr>\n",
       "      <th>1</th>\n",
       "      <td>ham</td>\n",
       "      <td>Ok lar... Joking wif u oni...</td>\n",
       "    </tr>\n",
       "    <tr>\n",
       "      <th>2</th>\n",
       "      <td>spam</td>\n",
       "      <td>Free entry in 2 a wkly comp to win FA Cup fina...</td>\n",
       "    </tr>\n",
       "    <tr>\n",
       "      <th>3</th>\n",
       "      <td>ham</td>\n",
       "      <td>U dun say so early hor... U c already then say...</td>\n",
       "    </tr>\n",
       "    <tr>\n",
       "      <th>4</th>\n",
       "      <td>ham</td>\n",
       "      <td>Nah I don't think he goes to usf, he lives aro...</td>\n",
       "    </tr>\n",
       "    <tr>\n",
       "      <th>5</th>\n",
       "      <td>spam</td>\n",
       "      <td>FreeMsg Hey there darling it's been 3 week's n...</td>\n",
       "    </tr>\n",
       "    <tr>\n",
       "      <th>6</th>\n",
       "      <td>ham</td>\n",
       "      <td>Even my brother is not like to speak with me. ...</td>\n",
       "    </tr>\n",
       "    <tr>\n",
       "      <th>7</th>\n",
       "      <td>ham</td>\n",
       "      <td>As per your request 'Melle Melle (Oru Minnamin...</td>\n",
       "    </tr>\n",
       "    <tr>\n",
       "      <th>8</th>\n",
       "      <td>spam</td>\n",
       "      <td>WINNER!! As a valued network customer you have...</td>\n",
       "    </tr>\n",
       "    <tr>\n",
       "      <th>9</th>\n",
       "      <td>spam</td>\n",
       "      <td>Had your mobile 11 months or more? U R entitle...</td>\n",
       "    </tr>\n",
       "  </tbody>\n",
       "</table>\n",
       "</div>"
      ],
      "text/plain": [
       "  Category                                            Message\n",
       "0      ham  Go until jurong point, crazy.. Available only ...\n",
       "1      ham                      Ok lar... Joking wif u oni...\n",
       "2     spam  Free entry in 2 a wkly comp to win FA Cup fina...\n",
       "3      ham  U dun say so early hor... U c already then say...\n",
       "4      ham  Nah I don't think he goes to usf, he lives aro...\n",
       "5     spam  FreeMsg Hey there darling it's been 3 week's n...\n",
       "6      ham  Even my brother is not like to speak with me. ...\n",
       "7      ham  As per your request 'Melle Melle (Oru Minnamin...\n",
       "8     spam  WINNER!! As a valued network customer you have...\n",
       "9     spam  Had your mobile 11 months or more? U R entitle..."
      ]
     },
     "execution_count": 5,
     "metadata": {},
     "output_type": "execute_result"
    }
   ],
   "source": [
    "df = pd.read_csv(\"spam.csv\")\n",
    "df.head(10)"
   ]
  },
  {
   "cell_type": "code",
   "execution_count": 7,
   "id": "936589ee-4900-4074-ab1a-9072b1eb5a51",
   "metadata": {
    "tags": []
   },
   "outputs": [
    {
     "data": {
      "text/plain": [
       "ham     4825\n",
       "spam     747\n",
       "Name: Category, dtype: int64"
      ]
     },
     "execution_count": 7,
     "metadata": {},
     "output_type": "execute_result"
    }
   ],
   "source": [
    "df.Category.value_counts()"
   ]
  },
  {
   "cell_type": "code",
   "execution_count": 8,
   "id": "e6184982-6f40-413f-a705-77cdc7b2a602",
   "metadata": {
    "tags": []
   },
   "outputs": [],
   "source": [
    "df['spam'] = df.Category.apply(lambda x: 1 if  x=='spam' else 0 )"
   ]
  },
  {
   "cell_type": "code",
   "execution_count": 10,
   "id": "db0359be-e860-4af3-8c71-c18a501ffa4e",
   "metadata": {
    "tags": []
   },
   "outputs": [
    {
     "data": {
      "text/html": [
       "<div>\n",
       "<style scoped>\n",
       "    .dataframe tbody tr th:only-of-type {\n",
       "        vertical-align: middle;\n",
       "    }\n",
       "\n",
       "    .dataframe tbody tr th {\n",
       "        vertical-align: top;\n",
       "    }\n",
       "\n",
       "    .dataframe thead th {\n",
       "        text-align: right;\n",
       "    }\n",
       "</style>\n",
       "<table border=\"1\" class=\"dataframe\">\n",
       "  <thead>\n",
       "    <tr style=\"text-align: right;\">\n",
       "      <th></th>\n",
       "      <th>Category</th>\n",
       "      <th>Message</th>\n",
       "      <th>spam</th>\n",
       "    </tr>\n",
       "  </thead>\n",
       "  <tbody>\n",
       "    <tr>\n",
       "      <th>0</th>\n",
       "      <td>ham</td>\n",
       "      <td>Go until jurong point, crazy.. Available only ...</td>\n",
       "      <td>0</td>\n",
       "    </tr>\n",
       "    <tr>\n",
       "      <th>1</th>\n",
       "      <td>ham</td>\n",
       "      <td>Ok lar... Joking wif u oni...</td>\n",
       "      <td>0</td>\n",
       "    </tr>\n",
       "    <tr>\n",
       "      <th>2</th>\n",
       "      <td>spam</td>\n",
       "      <td>Free entry in 2 a wkly comp to win FA Cup fina...</td>\n",
       "      <td>1</td>\n",
       "    </tr>\n",
       "    <tr>\n",
       "      <th>3</th>\n",
       "      <td>ham</td>\n",
       "      <td>U dun say so early hor... U c already then say...</td>\n",
       "      <td>0</td>\n",
       "    </tr>\n",
       "    <tr>\n",
       "      <th>4</th>\n",
       "      <td>ham</td>\n",
       "      <td>Nah I don't think he goes to usf, he lives aro...</td>\n",
       "      <td>0</td>\n",
       "    </tr>\n",
       "  </tbody>\n",
       "</table>\n",
       "</div>"
      ],
      "text/plain": [
       "  Category                                            Message  spam\n",
       "0      ham  Go until jurong point, crazy.. Available only ...     0\n",
       "1      ham                      Ok lar... Joking wif u oni...     0\n",
       "2     spam  Free entry in 2 a wkly comp to win FA Cup fina...     1\n",
       "3      ham  U dun say so early hor... U c already then say...     0\n",
       "4      ham  Nah I don't think he goes to usf, he lives aro...     0"
      ]
     },
     "execution_count": 10,
     "metadata": {},
     "output_type": "execute_result"
    }
   ],
   "source": [
    "df.head()"
   ]
  },
  {
   "cell_type": "code",
   "execution_count": 15,
   "id": "228462bd-7268-4d0c-8724-37da9748941b",
   "metadata": {
    "tags": []
   },
   "outputs": [],
   "source": [
    "from sklearn.model_selection import train_test_split"
   ]
  },
  {
   "cell_type": "code",
   "execution_count": 208,
   "id": "ed7a8ccd-1c46-478d-b36b-2bfe35ee49f8",
   "metadata": {
    "tags": []
   },
   "outputs": [],
   "source": [
    "x_train, x_test , y_train, y_test = train_test_split(df.Message,df.spam, test_size=0.2)"
   ]
  },
  {
   "cell_type": "code",
   "execution_count": 211,
   "id": "8fd507e9-9a69-4956-85c6-d4126bcde283",
   "metadata": {
    "tags": []
   },
   "outputs": [
    {
     "data": {
      "text/plain": [
       "1225    You are a winner U have been specially selecte...\n",
       "3407    HEY DAS COOL... IKNOW ALL 2 WELLDA PERIL OF ST...\n",
       "3862    Free Msg: Ringtone!From: http://tms. widelive....\n",
       "2667    * Was a nice day and, impressively, i was sens...\n",
       "2792    … we r stayin here an extra week, back next we...\n",
       "Name: Message, dtype: object"
      ]
     },
     "execution_count": 211,
     "metadata": {},
     "output_type": "execute_result"
    }
   ],
   "source": [
    "x_train[15:20]"
   ]
  },
  {
   "cell_type": "code",
   "execution_count": 212,
   "id": "cf310e97-88ec-437d-935e-b2cc39968cb2",
   "metadata": {
    "tags": []
   },
   "outputs": [
    {
     "data": {
      "text/plain": [
       "1225    1\n",
       "3407    0\n",
       "3862    1\n",
       "2667    0\n",
       "2792    0\n",
       "Name: spam, dtype: int64"
      ]
     },
     "execution_count": 212,
     "metadata": {},
     "output_type": "execute_result"
    }
   ],
   "source": [
    "y_train[15:20]"
   ]
  },
  {
   "cell_type": "code",
   "execution_count": 213,
   "id": "25259d08-ef77-4fbf-b843-d3d35f292949",
   "metadata": {
    "tags": []
   },
   "outputs": [
    {
     "data": {
      "text/plain": [
       "numpy.ndarray"
      ]
     },
     "execution_count": 213,
     "metadata": {},
     "output_type": "execute_result"
    }
   ],
   "source": [
    "type(x_train.values)"
   ]
  },
  {
   "cell_type": "code",
   "execution_count": 214,
   "id": "0bda52a9-4a03-4010-a424-b1de93010ba6",
   "metadata": {
    "tags": []
   },
   "outputs": [
    {
     "data": {
      "text/plain": [
       "<4457x7765 sparse matrix of type '<class 'numpy.int64'>'\n",
       "\twith 59451 stored elements in Compressed Sparse Row format>"
      ]
     },
     "execution_count": 214,
     "metadata": {},
     "output_type": "execute_result"
    }
   ],
   "source": [
    "from sklearn.feature_extraction.text import CountVectorizer\n",
    "v = CountVectorizer()\n",
    "x_train_cv = v.fit_transform(x_train.values)\n",
    "x_train_cv"
   ]
  },
  {
   "cell_type": "code",
   "execution_count": 215,
   "id": "9808a400-2981-4187-8638-0eacac51bee3",
   "metadata": {
    "tags": []
   },
   "outputs": [
    {
     "data": {
      "text/plain": [
       "scipy.sparse.csr.csr_matrix"
      ]
     },
     "execution_count": 215,
     "metadata": {},
     "output_type": "execute_result"
    }
   ],
   "source": [
    "type(x_train_cv)"
   ]
  },
  {
   "cell_type": "code",
   "execution_count": 216,
   "id": "750bf1ba-a658-4e95-be60-94e6897707a2",
   "metadata": {
    "tags": []
   },
   "outputs": [
    {
     "data": {
      "text/plain": [
       "array([[0, 0, 0, ..., 0, 0, 0],\n",
       "       [0, 0, 0, ..., 0, 0, 0],\n",
       "       [0, 0, 0, ..., 0, 0, 0]], dtype=int64)"
      ]
     },
     "execution_count": 216,
     "metadata": {},
     "output_type": "execute_result"
    }
   ],
   "source": [
    "x_train_cv.toarray()[:3]"
   ]
  },
  {
   "cell_type": "code",
   "execution_count": 217,
   "id": "0add4150-e1d9-4ca3-9ee5-e007996b0f07",
   "metadata": {
    "tags": []
   },
   "outputs": [
    {
     "data": {
      "text/plain": [
       "(4457, 7765)"
      ]
     },
     "execution_count": 217,
     "metadata": {},
     "output_type": "execute_result"
    }
   ],
   "source": [
    "x_train_cv.shape"
   ]
  },
  {
   "cell_type": "code",
   "execution_count": 218,
   "id": "189a9e25-b98e-428b-9bcd-01f3f919e704",
   "metadata": {
    "tags": []
   },
   "outputs": [
    {
     "data": {
      "text/plain": [
       "array(['contract', 'contribute', 'control', 'convenience',\n",
       "       'conversations', 'converted', 'converter', 'convey', 'conveying',\n",
       "       'convinced', 'convincing', 'cook', 'cooked', 'cookies', 'cooking',\n",
       "       'cool', 'cooped', 'cooperative', 'copied', 'coping', 'cops',\n",
       "       'copy', 'cornwall', 'corporation', 'correct', 'correction',\n",
       "       'correctly', 'corrupt', 'corvettes', 'cos', 'cost', 'costa',\n",
       "       'costs', 'costume', 'costumes', 'couch', 'cougar', 'cough',\n",
       "       'coughing', 'could', 'couldn', 'count', 'country', 'counts',\n",
       "       'couple', 'courage', 'courageous', 'course', 'court', 'courtroom'],\n",
       "      dtype=object)"
      ]
     },
     "execution_count": 218,
     "metadata": {},
     "output_type": "execute_result"
    }
   ],
   "source": [
    "v.get_feature_names_out()[2000:2050]"
   ]
  },
  {
   "cell_type": "code",
   "execution_count": 219,
   "id": "682bd11a-95a4-4255-8d1b-b2524919d639",
   "metadata": {
    "tags": []
   },
   "outputs": [
    {
     "data": {
      "text/plain": [
       "{'please': 5277,\n",
       " 'leave': 4077,\n",
       " 'this': 6875,\n",
       " 'topic': 7006,\n",
       " 'sorry': 6353,\n",
       " 'for': 2951,\n",
       " 'telling': 6778,\n",
       " 'that': 6833,\n",
       " 'it': 3774,\n",
       " 'didnt': 2314}"
      ]
     },
     "execution_count": 219,
     "metadata": {},
     "output_type": "execute_result"
    }
   ],
   "source": [
    "from itertools import islice\n",
    "dict(islice(v.vocabulary_.items(), 10))"
   ]
  },
  {
   "cell_type": "code",
   "execution_count": 220,
   "id": "5755dc33-8187-4d9d-8f4b-8e45c910bf51",
   "metadata": {
    "tags": []
   },
   "outputs": [
    {
     "data": {
      "text/plain": [
       "'All boys made fun of me today. Ok i have no problem. I just sent one message just for fun'"
      ]
     },
     "execution_count": 220,
     "metadata": {},
     "output_type": "execute_result"
    }
   ],
   "source": [
    "x_train[4839]"
   ]
  },
  {
   "cell_type": "code",
   "execution_count": 221,
   "id": "818a513a-a54a-48d9-851a-710979c69a14",
   "metadata": {
    "tags": []
   },
   "outputs": [
    {
     "data": {
      "text/plain": [
       "(array([2951, 4077, 5277, 6353, 6778, 6833, 6875, 7006], dtype=int64),)"
      ]
     },
     "execution_count": 221,
     "metadata": {},
     "output_type": "execute_result"
    }
   ],
   "source": [
    "x_train_np = x_train_cv.toarray()\n",
    "np.where(x_train_np[0]!=0)"
   ]
  },
  {
   "cell_type": "code",
   "execution_count": 222,
   "id": "599fdfb2-6622-4112-b27d-bfc1e9cee8b6",
   "metadata": {
    "tags": []
   },
   "outputs": [
    {
     "name": "stdout",
     "output_type": "stream",
     "text": [
      "3054\n",
      "The word 'fun' repeats: 2 times in mail 0\n"
     ]
    }
   ],
   "source": [
    "print(v.vocabulary_['fun'])\n",
    "print(\"The word 'fun' repeats:\",x_train_arr[0][3029], \"times in mail 0\")"
   ]
  },
  {
   "cell_type": "code",
   "execution_count": 223,
   "id": "a7356055-e4a7-4c0e-abdc-6c7edf7554d8",
   "metadata": {
    "tags": []
   },
   "outputs": [],
   "source": [
    "from sklearn.naive_bayes import MultinomialNB"
   ]
  },
  {
   "cell_type": "code",
   "execution_count": 230,
   "id": "57591528-51e6-441b-a307-a86261696f7c",
   "metadata": {
    "tags": []
   },
   "outputs": [
    {
     "data": {
      "text/plain": [
       "MultinomialNB()"
      ]
     },
     "execution_count": 230,
     "metadata": {},
     "output_type": "execute_result"
    }
   ],
   "source": [
    "model = MultinomialNB()\n",
    "model.fit(x_train_cv,y_train)"
   ]
  },
  {
   "cell_type": "code",
   "execution_count": 231,
   "id": "7c6ad475-43b2-4c34-8204-2c28a4aa67cc",
   "metadata": {
    "tags": []
   },
   "outputs": [],
   "source": [
    "x_test_cv = v.transform(x_test)"
   ]
  },
  {
   "cell_type": "code",
   "execution_count": 232,
   "id": "cdfab464-0749-49fd-8d7b-75661b6ad887",
   "metadata": {
    "tags": []
   },
   "outputs": [
    {
     "data": {
      "text/plain": [
       "(1115, 7765)"
      ]
     },
     "execution_count": 232,
     "metadata": {},
     "output_type": "execute_result"
    }
   ],
   "source": [
    "x_test_cv.shape"
   ]
  },
  {
   "cell_type": "code",
   "execution_count": 268,
   "id": "ea66477d-b1a5-402d-8195-6172b8c7dd8e",
   "metadata": {
    "tags": []
   },
   "outputs": [
    {
     "name": "stdout",
     "output_type": "stream",
     "text": [
      "              precision    recall  f1-score   support\n",
      "\n",
      "           0       0.98      1.00      0.99       958\n",
      "           1       0.97      0.89      0.93       157\n",
      "\n",
      "    accuracy                           0.98      1115\n",
      "   macro avg       0.98      0.94      0.96      1115\n",
      "weighted avg       0.98      0.98      0.98      1115\n",
      "\n"
     ]
    }
   ],
   "source": [
    "from sklearn.metrics import classification_report\n",
    "y_pred = model.predict(x_test_cv)\n",
    "print(classification_report(y_test,y_pred))"
   ]
  },
  {
   "cell_type": "markdown",
   "id": "e14e903b-c5a1-412c-ac9c-f8182b6ec1ef",
   "metadata": {},
   "source": [
    "**Taking random Emails from my mail box**"
   ]
  },
  {
   "cell_type": "code",
   "execution_count": 277,
   "id": "5e5c9a9b-4cce-42ce-90cb-9224bd8911be",
   "metadata": {
    "tags": []
   },
   "outputs": [
    {
     "data": {
      "text/plain": [
       "array([1, 0], dtype=int64)"
      ]
     },
     "execution_count": 277,
     "metadata": {},
     "output_type": "execute_result"
    }
   ],
   "source": [
    "random_emails = [\"You are a winner!! Press this button to win over 100000$\",\n",
    "                 \"\"\"Are you ready for the next adventure? Then immerse yourself as Human or Elf in the magical world of Elvenar and discover ancient magic, \n",
    "                 long-lost races, and powerful Relics!\n",
    "                Start with an exclusive Starter Bundle and begin your journey!\"\"\"]\n",
    "emails_cv = v.transform(random_emails)\n",
    "model.predict(emails_cv)"
   ]
  },
  {
   "cell_type": "markdown",
   "id": "6d06b036-ebc3-46ee-ad82-d3489d23c50d",
   "metadata": {},
   "source": [
    "The first email is spam, the second isn't\n",
    "\n",
    "\n",
    "**Lets have a shorter way to build the model**\n"
   ]
  },
  {
   "cell_type": "code",
   "execution_count": 278,
   "id": "49996282-550a-4566-9a33-0730489aa145",
   "metadata": {
    "tags": []
   },
   "outputs": [],
   "source": [
    "from sklearn.pipeline import Pipeline\n",
    "\n",
    "pipe_model = Pipeline([\n",
    "    ('vectorizer', CountVectorizer()),\n",
    "    ('nb', MultinomialNB())\n",
    "])"
   ]
  },
  {
   "cell_type": "code",
   "execution_count": 279,
   "id": "672d525e-6d95-4572-ba86-68608ef2b380",
   "metadata": {
    "tags": []
   },
   "outputs": [
    {
     "data": {
      "text/plain": [
       "Pipeline(steps=[('vectorizer', CountVectorizer()), ('nb', MultinomialNB())])"
      ]
     },
     "execution_count": 279,
     "metadata": {},
     "output_type": "execute_result"
    }
   ],
   "source": [
    "pipe_model.fit(x_train,y_train)"
   ]
  },
  {
   "cell_type": "code",
   "execution_count": 280,
   "id": "c5a544b8-58b2-4ed0-b2ae-b5ee93e03bb2",
   "metadata": {
    "tags": []
   },
   "outputs": [
    {
     "name": "stdout",
     "output_type": "stream",
     "text": [
      "              precision    recall  f1-score   support\n",
      "\n",
      "           0       0.98      1.00      0.99       958\n",
      "           1       0.97      0.89      0.93       157\n",
      "\n",
      "    accuracy                           0.98      1115\n",
      "   macro avg       0.98      0.94      0.96      1115\n",
      "weighted avg       0.98      0.98      0.98      1115\n",
      "\n"
     ]
    }
   ],
   "source": [
    "y_pred = pipe_model.predict(x_test)\n",
    "print(classification_report(y_test,y_pred))"
   ]
  },
  {
   "cell_type": "code",
   "execution_count": 284,
   "id": "60fd4116-9395-4535-96ad-99b632c529c5",
   "metadata": {
    "tags": []
   },
   "outputs": [
    {
     "data": {
      "text/plain": [
       "array([1, 0], dtype=int64)"
      ]
     },
     "execution_count": 284,
     "metadata": {},
     "output_type": "execute_result"
    }
   ],
   "source": [
    "pipe_model.predict(random_emails)"
   ]
  },
  {
   "cell_type": "code",
   "execution_count": null,
   "id": "ec7603cc-0706-41c4-888a-c0d4bdc74553",
   "metadata": {},
   "outputs": [],
   "source": []
  }
 ],
 "metadata": {
  "kernelspec": {
   "display_name": "Python 3 (ipykernel)",
   "language": "python",
   "name": "python3"
  },
  "language_info": {
   "codemirror_mode": {
    "name": "ipython",
    "version": 3
   },
   "file_extension": ".py",
   "mimetype": "text/x-python",
   "name": "python",
   "nbconvert_exporter": "python",
   "pygments_lexer": "ipython3",
   "version": "3.7.7"
  }
 },
 "nbformat": 4,
 "nbformat_minor": 5
}
