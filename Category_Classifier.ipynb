{
 "cells": [
  {
   "cell_type": "markdown",
   "id": "35fa05ff-713a-42ce-a6f7-a8a01c659852",
   "metadata": {},
   "source": [
    "**N Grams**"
   ]
  },
  {
   "cell_type": "markdown",
   "id": "fe601a26-8537-48f9-add5-a058cd213393",
   "metadata": {},
   "source": [
    "First lets learn about n-grams"
   ]
  },
  {
   "cell_type": "code",
   "execution_count": 69,
   "id": "2d513f69-ac7e-485a-be63-11433d2f5d53",
   "metadata": {
    "tags": []
   },
   "outputs": [
    {
     "data": {
      "text/plain": [
       "{'am': 0, 'going': 2, 'to': 6, 'the': 5, 'supermarket': 4, 'buy': 1, 'milk': 3}"
      ]
     },
     "execution_count": 69,
     "metadata": {},
     "output_type": "execute_result"
    }
   ],
   "source": [
    "from sklearn.feature_extraction.text import CountVectorizer\n",
    "\n",
    "v = CountVectorizer()\n",
    "v.fit([\"I am Going to the Supermarket to buy milk\"])\n",
    "v.vocabulary_"
   ]
  },
  {
   "cell_type": "code",
   "execution_count": 70,
   "id": "2fb50244-8344-47bb-b8d3-c4cf48ab63ba",
   "metadata": {
    "tags": []
   },
   "outputs": [
    {
     "data": {
      "text/plain": [
       "{'am': 0,\n",
       " 'going': 4,\n",
       " 'to': 11,\n",
       " 'the': 9,\n",
       " 'supermarket': 7,\n",
       " 'buy': 2,\n",
       " 'milk': 6,\n",
       " 'am going': 1,\n",
       " 'going to': 5,\n",
       " 'to the': 13,\n",
       " 'the supermarket': 10,\n",
       " 'supermarket to': 8,\n",
       " 'to buy': 12,\n",
       " 'buy milk': 3}"
      ]
     },
     "execution_count": 70,
     "metadata": {},
     "output_type": "execute_result"
    }
   ],
   "source": [
    "v = CountVectorizer(ngram_range=(1,2))\n",
    "v.fit([\"I am Going to the Supermarket to buy milk\"])\n",
    "v.vocabulary_"
   ]
  },
  {
   "cell_type": "code",
   "execution_count": 71,
   "id": "4663c1ab-5efa-49f7-b27f-02926f24e913",
   "metadata": {
    "tags": []
   },
   "outputs": [
    {
     "data": {
      "text/plain": [
       "{'am': 0,\n",
       " 'going': 5,\n",
       " 'to': 15,\n",
       " 'the': 12,\n",
       " 'supermarket': 9,\n",
       " 'buy': 3,\n",
       " 'milk': 8,\n",
       " 'am going': 1,\n",
       " 'going to': 6,\n",
       " 'to the': 18,\n",
       " 'the supermarket': 13,\n",
       " 'supermarket to': 10,\n",
       " 'to buy': 16,\n",
       " 'buy milk': 4,\n",
       " 'am going to': 2,\n",
       " 'going to the': 7,\n",
       " 'to the supermarket': 19,\n",
       " 'the supermarket to': 14,\n",
       " 'supermarket to buy': 11,\n",
       " 'to buy milk': 17}"
      ]
     },
     "execution_count": 71,
     "metadata": {},
     "output_type": "execute_result"
    }
   ],
   "source": [
    "v = CountVectorizer(ngram_range=(1,3))\n",
    "v.fit([\"I am Going to the Supermarket to buy milk\"])\n",
    "v.vocabulary_"
   ]
  },
  {
   "cell_type": "code",
   "execution_count": 72,
   "id": "0f15482b-0ccd-4539-9ef3-55476085ec38",
   "metadata": {
    "tags": []
   },
   "outputs": [],
   "source": [
    "import spacy\n",
    "nlp = spacy.load(\"en_core_web_sm\")\n",
    "\n",
    "\n",
    "def preprocess(text):\n",
    "     doc = nlp(text)\n",
    "     fil_tokens = []\n",
    "     for token in doc:\n",
    "         if not(token.is_stop or token.is_punct):\n",
    "                 fil_tokens.append(token.lemma_)\n",
    "     return \" \".join(fil_tokens)\n",
    "                 \n",
    "processed = [preprocess(\"I am Going to the Supermarket to buy milk\")]                "
   ]
  },
  {
   "cell_type": "code",
   "execution_count": 73,
   "id": "633395d9-11ef-46b8-9636-086b27789e47",
   "metadata": {
    "tags": []
   },
   "outputs": [
    {
     "data": {
      "text/plain": [
       "{'go': 2,\n",
       " 'supermarket': 5,\n",
       " 'buy': 0,\n",
       " 'milk': 4,\n",
       " 'go supermarket': 3,\n",
       " 'supermarket buy': 6,\n",
       " 'buy milk': 1}"
      ]
     },
     "execution_count": 73,
     "metadata": {},
     "output_type": "execute_result"
    }
   ],
   "source": [
    "v = CountVectorizer(ngram_range=(1,2))\n",
    "v.fit(processed)\n",
    "v.vocabulary_"
   ]
  },
  {
   "cell_type": "code",
   "execution_count": 74,
   "id": "55b8569b-a0db-4f33-badf-766cba31b7ae",
   "metadata": {
    "tags": []
   },
   "outputs": [
    {
     "data": {
      "text/plain": [
       "array([[0, 0, 1, 0, 0, 1, 0]], dtype=int64)"
      ]
     },
     "execution_count": 74,
     "metadata": {},
     "output_type": "execute_result"
    }
   ],
   "source": [
    "v.transform([\"I go to supermarket\"]).toarray()"
   ]
  },
  {
   "cell_type": "code",
   "execution_count": 75,
   "id": "ef2ed1be-f963-4f4b-8b14-a938baaa24ef",
   "metadata": {
    "tags": []
   },
   "outputs": [
    {
     "data": {
      "text/plain": [
       "array([[1, 1, 0, 0, 1, 0, 0]], dtype=int64)"
      ]
     },
     "execution_count": 75,
     "metadata": {},
     "output_type": "execute_result"
    }
   ],
   "source": [
    "v.transform([\"I buy milk\"]).toarray()"
   ]
  },
  {
   "cell_type": "markdown",
   "id": "6fc9b8d5-f50b-4453-abc3-6539885075c5",
   "metadata": {},
   "source": [
    "**Category Classification problem**"
   ]
  },
  {
   "cell_type": "code",
   "execution_count": 120,
   "id": "0c6d41bc-643a-4ec4-a708-dd1d0a39b67d",
   "metadata": {
    "tags": []
   },
   "outputs": [
    {
     "data": {
      "text/html": [
       "<div>\n",
       "<style scoped>\n",
       "    .dataframe tbody tr th:only-of-type {\n",
       "        vertical-align: middle;\n",
       "    }\n",
       "\n",
       "    .dataframe tbody tr th {\n",
       "        vertical-align: top;\n",
       "    }\n",
       "\n",
       "    .dataframe thead th {\n",
       "        text-align: right;\n",
       "    }\n",
       "</style>\n",
       "<table border=\"1\" class=\"dataframe\">\n",
       "  <thead>\n",
       "    <tr style=\"text-align: right;\">\n",
       "      <th></th>\n",
       "      <th>text</th>\n",
       "      <th>category</th>\n",
       "    </tr>\n",
       "  </thead>\n",
       "  <tbody>\n",
       "    <tr>\n",
       "      <th>0</th>\n",
       "      <td>Watching Schrödinger's Cat Die University of C...</td>\n",
       "      <td>SCIENCE</td>\n",
       "    </tr>\n",
       "    <tr>\n",
       "      <th>1</th>\n",
       "      <td>WATCH: Freaky Vortex Opens Up In Flooded Lake</td>\n",
       "      <td>SCIENCE</td>\n",
       "    </tr>\n",
       "    <tr>\n",
       "      <th>2</th>\n",
       "      <td>Entrepreneurs Today Don't Need a Big Budget to...</td>\n",
       "      <td>BUSINESS</td>\n",
       "    </tr>\n",
       "    <tr>\n",
       "      <th>3</th>\n",
       "      <td>These Roads Could Recharge Your Electric Car A...</td>\n",
       "      <td>BUSINESS</td>\n",
       "    </tr>\n",
       "    <tr>\n",
       "      <th>4</th>\n",
       "      <td>Civilian 'Guard' Fires Gun While 'Protecting' ...</td>\n",
       "      <td>CRIME</td>\n",
       "    </tr>\n",
       "  </tbody>\n",
       "</table>\n",
       "</div>"
      ],
      "text/plain": [
       "                                                text  category\n",
       "0  Watching Schrödinger's Cat Die University of C...   SCIENCE\n",
       "1     WATCH: Freaky Vortex Opens Up In Flooded Lake    SCIENCE\n",
       "2  Entrepreneurs Today Don't Need a Big Budget to...  BUSINESS\n",
       "3  These Roads Could Recharge Your Electric Car A...  BUSINESS\n",
       "4  Civilian 'Guard' Fires Gun While 'Protecting' ...     CRIME"
      ]
     },
     "execution_count": 120,
     "metadata": {},
     "output_type": "execute_result"
    }
   ],
   "source": [
    "df = pd.read_json(\"news_dataset.json\")\n",
    "df.head()"
   ]
  },
  {
   "cell_type": "code",
   "execution_count": 121,
   "id": "adacae4d-d87a-4ac3-ab20-52e2f240b221",
   "metadata": {
    "tags": []
   },
   "outputs": [
    {
     "data": {
      "text/plain": [
       "BUSINESS    4254\n",
       "SPORTS      4167\n",
       "CRIME       2893\n",
       "SCIENCE     1381\n",
       "Name: category, dtype: int64"
      ]
     },
     "execution_count": 121,
     "metadata": {},
     "output_type": "execute_result"
    }
   ],
   "source": [
    "df.category.value_counts()"
   ]
  },
  {
   "cell_type": "code",
   "execution_count": 124,
   "id": "8ad038d6-2178-4b8e-a898-277084f9d592",
   "metadata": {
    "tags": []
   },
   "outputs": [],
   "source": [
    "min_sample = 1381\n",
    "\n",
    "df_SCIENCE = df[df.category == \"SCIENCE\"].sample(min_sample, random_state = 2022)\n",
    "df_BUSINESS = df[df.category == \"BUSINESS\"].sample(min_sample, random_state = 2022)\n",
    "df_CRIME= df[df.category == \"CRIME\"].sample(min_sample, random_state = 2022)\n",
    "df_SPORTS = df[df.category == \"SPORTS\"].sample(min_sample, random_state = 2022)"
   ]
  },
  {
   "cell_type": "code",
   "execution_count": 125,
   "id": "a80aa6b1-6b6e-4cf5-891d-327ee3287887",
   "metadata": {
    "tags": []
   },
   "outputs": [
    {
     "data": {
      "text/plain": [
       "SCIENCE     1381\n",
       "BUSINESS    1381\n",
       "CRIME       1381\n",
       "SPORTS      1381\n",
       "Name: category, dtype: int64"
      ]
     },
     "execution_count": 125,
     "metadata": {},
     "output_type": "execute_result"
    }
   ],
   "source": [
    "df_balanced = pd.concat([df_SCIENCE,df_BUSINESS,df_CRIME,df_SPORTS])\n",
    "df_balanced.category.value_counts()"
   ]
  },
  {
   "cell_type": "code",
   "execution_count": 126,
   "id": "47ff1eae-1071-4502-9b97-1f518cec145e",
   "metadata": {
    "tags": []
   },
   "outputs": [
    {
     "data": {
      "text/html": [
       "<div>\n",
       "<style scoped>\n",
       "    .dataframe tbody tr th:only-of-type {\n",
       "        vertical-align: middle;\n",
       "    }\n",
       "\n",
       "    .dataframe tbody tr th {\n",
       "        vertical-align: top;\n",
       "    }\n",
       "\n",
       "    .dataframe thead th {\n",
       "        text-align: right;\n",
       "    }\n",
       "</style>\n",
       "<table border=\"1\" class=\"dataframe\">\n",
       "  <thead>\n",
       "    <tr style=\"text-align: right;\">\n",
       "      <th></th>\n",
       "      <th>text</th>\n",
       "      <th>category</th>\n",
       "      <th>category_num</th>\n",
       "    </tr>\n",
       "  </thead>\n",
       "  <tbody>\n",
       "    <tr>\n",
       "      <th>7210</th>\n",
       "      <td>It's Time We Take A Look At How Female Astrono...</td>\n",
       "      <td>SCIENCE</td>\n",
       "      <td>0</td>\n",
       "    </tr>\n",
       "    <tr>\n",
       "      <th>12292</th>\n",
       "      <td>Scientists Reveal The Secret Key To Charisma I...</td>\n",
       "      <td>SCIENCE</td>\n",
       "      <td>0</td>\n",
       "    </tr>\n",
       "    <tr>\n",
       "      <th>6249</th>\n",
       "      <td>Watch One Of The World's Largest Lakes Shrink ...</td>\n",
       "      <td>SCIENCE</td>\n",
       "      <td>0</td>\n",
       "    </tr>\n",
       "    <tr>\n",
       "      <th>379</th>\n",
       "      <td>'Falling Fruit' Map Helps Foragers Find Their ...</td>\n",
       "      <td>SCIENCE</td>\n",
       "      <td>0</td>\n",
       "    </tr>\n",
       "    <tr>\n",
       "      <th>12505</th>\n",
       "      <td>When Science Fiction Gets Real Many science fi...</td>\n",
       "      <td>SCIENCE</td>\n",
       "      <td>0</td>\n",
       "    </tr>\n",
       "  </tbody>\n",
       "</table>\n",
       "</div>"
      ],
      "text/plain": [
       "                                                    text category  \\\n",
       "7210   It's Time We Take A Look At How Female Astrono...  SCIENCE   \n",
       "12292  Scientists Reveal The Secret Key To Charisma I...  SCIENCE   \n",
       "6249   Watch One Of The World's Largest Lakes Shrink ...  SCIENCE   \n",
       "379    'Falling Fruit' Map Helps Foragers Find Their ...  SCIENCE   \n",
       "12505  When Science Fiction Gets Real Many science fi...  SCIENCE   \n",
       "\n",
       "       category_num  \n",
       "7210              0  \n",
       "12292             0  \n",
       "6249              0  \n",
       "379               0  \n",
       "12505             0  "
      ]
     },
     "execution_count": 126,
     "metadata": {},
     "output_type": "execute_result"
    }
   ],
   "source": [
    "df_balanced[\"category_num\"] = df_balanced['category'].map({\n",
    "    \"SCIENCE\": 0,\n",
    "    \"BUSINESS\": 1,\n",
    "    \"CRIME\": 2,\n",
    "     \"SPORTS\": 3\n",
    "})\n",
    "\n",
    "df_balanced.head()"
   ]
  },
  {
   "cell_type": "code",
   "execution_count": 128,
   "id": "9a0d03d1-0dff-4683-b8dd-6755538b1a3e",
   "metadata": {
    "tags": []
   },
   "outputs": [],
   "source": [
    "from sklearn.model_selection import train_test_split\n",
    "\n",
    "x_train, x_test, y_train, y_test = train_test_split(\n",
    "    df_balanced.text,\n",
    "    df_balanced.category_num,\n",
    "    test_size = 0.2,\n",
    "    random_state=2022,\n",
    "    stratify=df_balanced.category_num\n",
    "\n",
    ") "
   ]
  },
  {
   "cell_type": "code",
   "execution_count": 132,
   "id": "c6825f8f-5836-41e0-befc-9325ee15d9b8",
   "metadata": {
    "tags": []
   },
   "outputs": [
    {
     "name": "stdout",
     "output_type": "stream",
     "text": [
      "Here's Why You Don't Bully A Poker Pro With 27.8 Million Chips In The Pot \"You're being abusive to me.\"\n"
     ]
    }
   ],
   "source": [
    "print(x_train[4769])"
   ]
  },
  {
   "cell_type": "code",
   "execution_count": 133,
   "id": "ba41e1a0-b079-41b4-9079-ae2887e47543",
   "metadata": {
    "tags": []
   },
   "outputs": [
    {
     "data": {
      "text/plain": [
       "4769    Here's Why You Don't Bully A Poker Pro With 27...\n",
       "5724    Our Long National Deflategate Nightmare Is Bac...\n",
       "1923    Most Men Don't Care About Diversity In The Boa...\n",
       "1733    Beloved Bipedal Bear Named Pedals Believed Kil...\n",
       "2526    Elizabeth Smart Gave Birth To Baby Girl, Fathe...\n",
       "Name: text, dtype: object"
      ]
     },
     "execution_count": 133,
     "metadata": {},
     "output_type": "execute_result"
    }
   ],
   "source": [
    "x_train.head()"
   ]
  },
  {
   "cell_type": "code",
   "execution_count": 134,
   "id": "0c388ebc-81ba-4eb8-b995-68e0bab5da2e",
   "metadata": {
    "tags": []
   },
   "outputs": [
    {
     "data": {
      "text/plain": [
       "4769    3\n",
       "5724    3\n",
       "1923    1\n",
       "1733    2\n",
       "2526    2\n",
       "Name: category_num, dtype: int64"
      ]
     },
     "execution_count": 134,
     "metadata": {},
     "output_type": "execute_result"
    }
   ],
   "source": [
    "y_train.head()"
   ]
  },
  {
   "cell_type": "code",
   "execution_count": 135,
   "id": "3f53b732-aa50-4883-8fd4-05cc5b65f651",
   "metadata": {
    "tags": []
   },
   "outputs": [
    {
     "name": "stdout",
     "output_type": "stream",
     "text": [
      "              precision    recall  f1-score   support\n",
      "\n",
      "           0       0.91      0.83      0.87       276\n",
      "           1       0.77      0.89      0.83       277\n",
      "           2       0.87      0.90      0.89       276\n",
      "           3       0.92      0.83      0.87       276\n",
      "\n",
      "    accuracy                           0.86      1105\n",
      "   macro avg       0.87      0.86      0.86      1105\n",
      "weighted avg       0.87      0.86      0.86      1105\n",
      "\n"
     ]
    }
   ],
   "source": [
    "from sklearn.naive_bayes import MultinomialNB\n",
    "from sklearn.pipeline import Pipeline\n",
    "from sklearn.metrics import classification_report\n",
    "\n",
    "clf = Pipeline([\n",
    "    ('vec_box', CountVectorizer(ngram_range=(1,1))),\n",
    "    ('Multi NB', MultinomialNB())\n",
    "\n",
    "])\n",
    "\n",
    "clf.fit(x_train,y_train)\n",
    "\n",
    "y_pred = clf.predict(x_test)\n",
    "\n",
    "print(classification_report(y_test,y_pred))"
   ]
  },
  {
   "cell_type": "markdown",
   "id": "411ef7fb-6ab1-49cd-81f7-bc706fd008fd",
   "metadata": {},
   "source": [
    "**Now lets try to use differentngram ranges**"
   ]
  },
  {
   "cell_type": "code",
   "execution_count": 136,
   "id": "f93eee36-38f6-4f7f-b6d0-b2af8900989e",
   "metadata": {
    "tags": []
   },
   "outputs": [
    {
     "name": "stdout",
     "output_type": "stream",
     "text": [
      "              precision    recall  f1-score   support\n",
      "\n",
      "           0       0.92      0.76      0.83       276\n",
      "           1       0.70      0.92      0.79       277\n",
      "           2       0.87      0.88      0.87       276\n",
      "           3       0.91      0.78      0.84       276\n",
      "\n",
      "    accuracy                           0.83      1105\n",
      "   macro avg       0.85      0.83      0.83      1105\n",
      "weighted avg       0.85      0.83      0.83      1105\n",
      "\n"
     ]
    }
   ],
   "source": [
    "clf = Pipeline([\n",
    "    ('vec_box', CountVectorizer(ngram_range=(1,2))),\n",
    "    ('Multi NB', MultinomialNB())\n",
    "\n",
    "])\n",
    "\n",
    "clf.fit(x_train,y_train)\n",
    "\n",
    "y_pred = clf.predict(x_test)\n",
    "\n",
    "print(classification_report(y_test,y_pred))"
   ]
  },
  {
   "cell_type": "code",
   "execution_count": 137,
   "id": "ea0e93c9-c9e4-4e0c-b75e-f1e83905faa8",
   "metadata": {
    "tags": []
   },
   "outputs": [
    {
     "name": "stdout",
     "output_type": "stream",
     "text": [
      "              precision    recall  f1-score   support\n",
      "\n",
      "           0       0.92      0.74      0.82       276\n",
      "           1       0.67      0.92      0.78       277\n",
      "           2       0.87      0.86      0.86       276\n",
      "           3       0.92      0.77      0.84       276\n",
      "\n",
      "    accuracy                           0.82      1105\n",
      "   macro avg       0.85      0.82      0.82      1105\n",
      "weighted avg       0.84      0.82      0.82      1105\n",
      "\n"
     ]
    }
   ],
   "source": [
    "clf = Pipeline([\n",
    "    ('vec_box', CountVectorizer(ngram_range=(1,3))),\n",
    "    ('Multi NB', MultinomialNB())\n",
    "\n",
    "])\n",
    "\n",
    "clf.fit(x_train,y_train)\n",
    "\n",
    "y_pred = clf.predict(x_test)\n",
    "\n",
    "print(classification_report(y_test,y_pred))"
   ]
  },
  {
   "cell_type": "code",
   "execution_count": 138,
   "id": "d52b7794-77ea-47a7-a23e-caed2c3af916",
   "metadata": {
    "tags": []
   },
   "outputs": [
    {
     "data": {
      "text/html": [
       "<div>\n",
       "<style scoped>\n",
       "    .dataframe tbody tr th:only-of-type {\n",
       "        vertical-align: middle;\n",
       "    }\n",
       "\n",
       "    .dataframe tbody tr th {\n",
       "        vertical-align: top;\n",
       "    }\n",
       "\n",
       "    .dataframe thead th {\n",
       "        text-align: right;\n",
       "    }\n",
       "</style>\n",
       "<table border=\"1\" class=\"dataframe\">\n",
       "  <thead>\n",
       "    <tr style=\"text-align: right;\">\n",
       "      <th></th>\n",
       "      <th>text</th>\n",
       "      <th>category</th>\n",
       "      <th>category_num</th>\n",
       "      <th>pre_text</th>\n",
       "    </tr>\n",
       "  </thead>\n",
       "  <tbody>\n",
       "    <tr>\n",
       "      <th>7210</th>\n",
       "      <td>It's Time We Take A Look At How Female Astrono...</td>\n",
       "      <td>SCIENCE</td>\n",
       "      <td>0</td>\n",
       "      <td>Time look female astronomer treat Hidden figur...</td>\n",
       "    </tr>\n",
       "    <tr>\n",
       "      <th>12292</th>\n",
       "      <td>Scientists Reveal The Secret Key To Charisma I...</td>\n",
       "      <td>SCIENCE</td>\n",
       "      <td>0</td>\n",
       "      <td>scientist reveal secret Key Charisma think foo...</td>\n",
       "    </tr>\n",
       "    <tr>\n",
       "      <th>6249</th>\n",
       "      <td>Watch One Of The World's Largest Lakes Shrink ...</td>\n",
       "      <td>SCIENCE</td>\n",
       "      <td>0</td>\n",
       "      <td>watch World Largest Lakes Shrink eye go go nea...</td>\n",
       "    </tr>\n",
       "    <tr>\n",
       "      <th>379</th>\n",
       "      <td>'Falling Fruit' Map Helps Foragers Find Their ...</td>\n",
       "      <td>SCIENCE</td>\n",
       "      <td>0</td>\n",
       "      <td>fall fruit Map help forager find Free Meal say...</td>\n",
       "    </tr>\n",
       "    <tr>\n",
       "      <th>12505</th>\n",
       "      <td>When Science Fiction Gets Real Many science fi...</td>\n",
       "      <td>SCIENCE</td>\n",
       "      <td>0</td>\n",
       "      <td>Science Fiction get real science fiction write...</td>\n",
       "    </tr>\n",
       "  </tbody>\n",
       "</table>\n",
       "</div>"
      ],
      "text/plain": [
       "                                                    text category  \\\n",
       "7210   It's Time We Take A Look At How Female Astrono...  SCIENCE   \n",
       "12292  Scientists Reveal The Secret Key To Charisma I...  SCIENCE   \n",
       "6249   Watch One Of The World's Largest Lakes Shrink ...  SCIENCE   \n",
       "379    'Falling Fruit' Map Helps Foragers Find Their ...  SCIENCE   \n",
       "12505  When Science Fiction Gets Real Many science fi...  SCIENCE   \n",
       "\n",
       "       category_num                                           pre_text  \n",
       "7210              0  Time look female astronomer treat Hidden figur...  \n",
       "12292             0  scientist reveal secret Key Charisma think foo...  \n",
       "6249              0  watch World Largest Lakes Shrink eye go go nea...  \n",
       "379               0  fall fruit Map help forager find Free Meal say...  \n",
       "12505             0  Science Fiction get real science fiction write...  "
      ]
     },
     "execution_count": 138,
     "metadata": {},
     "output_type": "execute_result"
    }
   ],
   "source": [
    "df_balanced[\"pre_text\"] = df_balanced['text'].apply(preprocess)\n",
    "df_balanced.head()"
   ]
  },
  {
   "cell_type": "code",
   "execution_count": 139,
   "id": "af397dec-f51c-46c1-882f-56908a38b0f1",
   "metadata": {
    "tags": []
   },
   "outputs": [],
   "source": [
    "x_train, x_test, y_train, y_test = train_test_split(\n",
    "    df_balanced.pre_text,\n",
    "    df_balanced.category_num,\n",
    "    test_size = 0.2,\n",
    "    random_state=2022,\n",
    "    stratify=df_balanced.category_num\n",
    "\n",
    ") "
   ]
  },
  {
   "cell_type": "code",
   "execution_count": 140,
   "id": "94a22f01-39cb-4e9b-ba34-9e39871e77f1",
   "metadata": {
    "tags": []
   },
   "outputs": [
    {
     "name": "stdout",
     "output_type": "stream",
     "text": [
      "              precision    recall  f1-score   support\n",
      "\n",
      "           0       0.90      0.84      0.87       276\n",
      "           1       0.84      0.86      0.85       277\n",
      "           2       0.85      0.92      0.88       276\n",
      "           3       0.92      0.88      0.90       276\n",
      "\n",
      "    accuracy                           0.87      1105\n",
      "   macro avg       0.87      0.87      0.87      1105\n",
      "weighted avg       0.87      0.87      0.87      1105\n",
      "\n"
     ]
    }
   ],
   "source": [
    "clf = Pipeline([\n",
    "    ('vec_box', CountVectorizer(ngram_range=(1,1))),\n",
    "    ('Multi NB', MultinomialNB())\n",
    "\n",
    "])\n",
    "\n",
    "clf.fit(x_train,y_train)\n",
    "\n",
    "y_pred = clf.predict(x_test)\n",
    "\n",
    "print(classification_report(y_test,y_pred))"
   ]
  },
  {
   "cell_type": "markdown",
   "id": "3e2e7d37-f71f-407c-be83-ac1bf669696c",
   "metadata": {},
   "source": [
    "**And we see that the accuracy raised a bit**"
   ]
  },
  {
   "cell_type": "code",
   "execution_count": 141,
   "id": "e1bfa9ee-e46a-4680-ba9a-a5316e77f47b",
   "metadata": {
    "tags": []
   },
   "outputs": [
    {
     "data": {
      "text/plain": [
       "array([[231,  24,  12,   9],\n",
       "       [ 16, 237,  13,  11],\n",
       "       [  5,  15, 254,   2],\n",
       "       [  6,   7,  20, 243]], dtype=int64)"
      ]
     },
     "execution_count": 141,
     "metadata": {},
     "output_type": "execute_result"
    }
   ],
   "source": [
    "from sklearn.metrics import confusion_matrix\n",
    "cm = confusion_matrix(y_test,y_pred)\n",
    "cm"
   ]
  },
  {
   "cell_type": "code",
   "execution_count": 142,
   "id": "f3ad8214-7afa-4816-b63d-a96d0799555f",
   "metadata": {
    "tags": []
   },
   "outputs": [
    {
     "data": {
      "text/plain": [
       "Text(95.72222222222221, 0.5, 'Truth')"
      ]
     },
     "execution_count": 142,
     "metadata": {},
     "output_type": "execute_result"
    },
    {
     "data": {
      "image/png": "[encoded data removed]",
      "text/plain": [
       "<Figure size 1000x700 with 2 Axes>"
      ]
     },
     "metadata": {},
     "output_type": "display_data"
    }
   ],
   "source": [
    "from matplotlib import pyplot as plt\n",
    "import seaborn as sn\n",
    "plt.figure(figsize=(10,7))\n",
    "sn.heatmap(cm,annot=True, fmt='d')\n",
    "plt.xlabel(\"prediction\")\n",
    "plt.ylabel('Truth')"
   ]
  },
  {
   "cell_type": "code",
   "execution_count": null,
   "id": "32141acc-e198-4295-ae11-37d5c633f86a",
   "metadata": {},
   "outputs": [],
   "source": []
  }
 ],
 "metadata": {
  "kernelspec": {
   "display_name": "Python 3 (ipykernel)",
   "language": "python",
   "name": "python3"
  },
  "language_info": {
   "codemirror_mode": {
    "name": "ipython",
    "version": 3
   },
   "file_extension": ".py",
   "mimetype": "text/x-python",
   "name": "python",
   "nbconvert_exporter": "python",
   "pygments_lexer": "ipython3",
   "version": "3.7.7"
  }
 },
 "nbformat": 4,
 "nbformat_minor": 5
}
